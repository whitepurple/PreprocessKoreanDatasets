{
 "cells": [
  {
   "cell_type": "code",
   "execution_count": 1,
   "metadata": {
    "metadata": {}
   },
   "outputs": [],
   "source": [
    "from pathlib import Path\n",
    "import json\n",
    "\n",
    "settings = json.loads(Path('settingstest.json').read_text())\n",
    "preprocessed_data_path = Path(settings['preprocessed_data_path'])\n",
    "data_sources = ['AIHub', 'ModuCorpus', 'NIKL']\n",
    "data_dirs = map(lambda x: preprocessed_data_path / x, data_sources)"
   ]
  },
  {
   "cell_type": "code",
   "execution_count": 2,
   "metadata": {
    "metadata": {}
   },
   "outputs": [
    {
     "name": "stdout",
     "output_type": "stream",
     "text": [
      "/home/nlp-02/kkb2/DICELLM/data/AIHub 파일 크기: 337.9671 GB\n",
      "141\n",
      "/home/nlp-02/kkb2/DICELLM/data/ModuCorpus 파일 크기: 42.2595 GB\n",
      "58\n",
      "/home/nlp-02/kkb2/DICELLM/data/NIKL 파일 크기: 1.1582 GB\n",
      "4\n",
      "전체 파일 크기: 381.3848 GB\n"
     ]
    }
   ],
   "source": [
    "f = Path('jsonl_file_sizes.txt').open('w')\n",
    "\n",
    "def get_directory_sizes(directory):\n",
    "    directory_path = Path(directory)\n",
    "    for file_path in sorted(directory_path.glob(\"*/preprocessed\")):\n",
    "        total_size = 0\n",
    "        for file in file_path.glob(\"*/*.jsonl\"):\n",
    "            total_size += file.stat().st_size\n",
    "        yield file_path, total_size / (1024 * 1024 * 1024)\n",
    "\n",
    "total_size = 0\n",
    "for data_dir in data_dirs:\n",
    "    data_size = 0\n",
    "    dataset_size = 0\n",
    "    for file_path, size in get_directory_sizes(data_dir):\n",
    "        f.write(f\"{size:>7.4f} GB\\t{file_path.parent}\\n\")\n",
    "        data_size += size\n",
    "        dataset_size += 1\n",
    "    f.write(f\"{data_size:>7.4f} GB\\t{data_dir}\\n\")\n",
    "    print(f\"{data_dir} 파일 크기: {data_size:.4f} GB\")\n",
    "    print(dataset_size)\n",
    "    dataset_size = 0\n",
    "    total_size += data_size\n",
    "    \n",
    "f.write(f\"{total_size:.4f} GB\\t전체 파일 크기\\n\")\n",
    "print(f\"전체 파일 크기: {total_size:.4f} GB\")\n",
    "f.close()\n"
   ]
  },
  {
   "cell_type": "code",
   "execution_count": 5,
   "metadata": {},
   "outputs": [],
   "source": [
    "from urllib3 import PoolManager\n",
    "from pathlib import Path\n",
    "import random\n",
    "import json\n",
    "\n",
    "http = PoolManager()\n",
    "code = json.loads(Path('notion_code.json').open().read())\n",
    "auth = code['NOTION_AUTHORIZATION_KEY']\n",
    "db = code['NOTION_DATABASE_ID']\n",
    "\n",
    "url = f\"https://api.notion.com/v1/databases/{db}/query\"\n",
    "headers = {\n",
    "    'Authorization': auth,\n",
    "    'Notion-Version': '2022-06-28',\n",
    "    \"Content-Type\": \"application/json\"\n",
    "}\n",
    "body = {}\n",
    "has_more = True\n",
    "datasets = []\n",
    "while has_more:\n",
    "    response = http.request('POST',\n",
    "                        url,\n",
    "                        body = json.dumps(body),\n",
    "                        headers = headers,\n",
    "                        retries = False)\n",
    "    source = json.loads(response.data.decode('utf-8'))\n",
    "    datasets.extend(source['results'])\n",
    "    has_more = source['has_more']\n",
    "    body['start_cursor'] = source['next_cursor']\n",
    "\n",
    "dataset2task = dict()\n",
    "for dataset in datasets:\n",
    "    dataset_name = dataset['properties']['Dataset Name']['title'][0]['plain_text']\n",
    "    source = dataset['properties']['Source']['select']['name']\n",
    "    tasks = [task['name'] for task in dataset['properties']['Tasks']['multi_select']]\n",
    "    dataset2task[dataset_name] = tasks\n",
    "    \n",
    "dataset2task = {k: v for k, v in sorted(dataset2task.items(), key=lambda x: x[0])}\n",
    "\n",
    "json.dump(dataset2task, Path('dataset2task.json').open('w'), ensure_ascii=False, indent=4)"
   ]
  }
 ],
 "metadata": {
  "kernelspec": {
   "display_name": "llm",
   "language": "python",
   "name": "python3"
  },
  "language_info": {
   "codemirror_mode": {
    "name": "ipython",
    "version": 3
   },
   "file_extension": ".py",
   "mimetype": "text/x-python",
   "name": "python",
   "nbconvert_exporter": "python",
   "pygments_lexer": "ipython3",
   "version": "3.12.2"
  }
 },
 "nbformat": 4,
 "nbformat_minor": 2
}
