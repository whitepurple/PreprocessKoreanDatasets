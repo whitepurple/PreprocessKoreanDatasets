{
    "cells": [
        {
            "cell_type": "code",
            "execution_count": 2,
            "metadata": {},
            "outputs": [
                {
                    "name": "stderr",
                    "output_type": "stream",
                    "text": [
                        "train: 100%|██████████| 1/1 [00:01<00:00,  1.95s/it]\n",
                        "valid: 0it [00:00, ?it/s]\n"
                    ]
                }
            ],
            "source": [
                "from pathlib import Path\n",
                "import json\n",
                "import re\n",
                "from tqdm import tqdm\n",
                "\n",
                "settings = json.loads(Path('../../../settings.json').read_text())",
                "preprocessed_data_path = Path(settings['preprocessed_data_path'])",
                "data_path = Path('.').resolve()",
                "data_name = data_path.name",
                "source_name = data_path.parent.name",
                "preprocessed_dir = preprocessed_data_path/source_name/data_name",

                "source_data_dir = preprocessed_dir/'preprocessed'\n",
                "splits = ['train', 'valid']\n",
                "tasks = ['대화 요약']\n",
                "task_data_dir = preprocessed_dir/'preprocessed_task'\n",
                "task_data_dir.mkdir(exist_ok=True)\n",
                "for task in tasks:\n",
                "    task_path = task_data_dir/task\n",
                "    task_path.mkdir(exist_ok=True)\n",
                "    \n",
                "#### prepare for task preprocess\n",
                "\n",
                "\n",
                "\n",
                "#### prepare for task preprocess end\n",
                "\n",
                "#### task preprocess\n",
                "for split in splits:\n",
                "    source_data_dir_split = source_data_dir/split\n",
                "    task_files = [(task_data_dir/task/f'{split}.jsonl').open('w', encoding='utf-8') for task in tasks]\n",
                "    for source_data in tqdm(list(source_data_dir_split.iterdir()), desc=split):\n",
                "        source_data = source_data.open()\n",
                "        for line in source_data.readlines():\n",
                "            line = json.loads(line)\n",
                "            \n",
                "            #### data preprocess\n",
                "            dialog_id = line['id']+'.1.'\n",
                "            speaker = line['metadata']['speaker']\n",
                "            utterance = line['utterance']\n",
                "            for utt in utterance:\n",
                "                utt['id'] = utt['id'].replace(dialog_id, '')\n",
                "            \n",
                "            main_summary = line['SC']['main_summary']\n",
                "            topic = line['SC']['topic']\n",
                "            utt_group_dict = {}\n",
                "            for sentence in line['discourse']['sentence_set']:\n",
                "                utt_group_dict[sentence['sentence_set_id']] = [uid.replace(dialog_id,'') \n",
                "                                                               for uid in sentence['utterance_id']]\n",
                "            for topic_dict in topic:\n",
                "                topic_dict['reference'] = [uid \n",
                "                                                     for gid in topic_dict.pop('utterance_group') \n",
                "                                                     for uid in utt_group_dict[gid['sentence_set_id']]]\n",
                "            #### data preprocess end \n",
                "            #### 대화 요약\n",
                "            data = {'input': {}, 'output': {}}\n",
                "            ## preprocess data from line\n",
                "            data['input']['speaker'] = speaker\n",
                "            data['input']['uttrance'] = utterance\n",
                "            data['output']['main_summary'] = main_summary\n",
                "            data['output']['topic_summaries'] = topic\n",
                "            ## preprocess data from line end\n",
                "            task_files[0].write(json.dumps(data, ensure_ascii=False)+'\\n')\n",
                "            # print(json.dumps(data, indent=4, ensure_ascii=False))\n",
                "            #### 대화 요약 end\n",
                "            \n",
                "            \n",
                "    #         break\n",
                "    #     break\n",
                "    # break\n",
                "\n",
                "    for path in task_files:\n",
                "        path.close()      \n",
                "        \n",
                "#### task preprocess end      "
            ]
        },
        {
            "cell_type": "code",
            "execution_count": null,
            "metadata": {},
            "outputs": [],
            "source": []
        }
    ],
    "metadata": {
        "kernelspec": {
            "display_name": "llm",
            "language": "python",
            "name": "python3"
        },
        "language_info": {
            "codemirror_mode": {
                "name": "ipython",
                "version": 3
            },
            "file_extension": ".py",
            "mimetype": "text/x-python",
            "name": "python",
            "nbconvert_exporter": "python",
            "pygments_lexer": "ipython3",
            "version": "3.12.2"
        }
    },
    "nbformat": 4,
    "nbformat_minor": 2
}
