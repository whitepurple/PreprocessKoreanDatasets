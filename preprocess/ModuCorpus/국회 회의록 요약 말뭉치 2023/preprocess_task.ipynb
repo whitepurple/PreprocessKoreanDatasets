{
    "cells": [
        {
            "cell_type": "code",
            "execution_count": 3,
            "metadata": {},
            "outputs": [
                {
                    "name": "stderr",
                    "output_type": "stream",
                    "text": [
                        "train: 100%|██████████| 1/1 [00:05<00:00,  5.05s/it]\n",
                        "valid: 0it [00:00, ?it/s]\n"
                    ]
                }
            ],
            "source": [
                "from pathlib import Path\n",
                "import json\n",
                "import re\n",
                "from tqdm import tqdm\n",
                "\n",
                "settings = json.loads(Path('../../../settings.json').read_text())",
                "preprocessed_data_path = Path(settings['preprocessed_data_path'])",
                "data_path = Path('.').resolve()",
                "data_name = data_path.name",
                "source_name = data_path.parent.name",
                "preprocessed_dir = preprocessed_data_path/source_name/data_name",

                "source_data_dir = preprocessed_dir/'preprocessed'\n",
                "splits = ['train', 'valid']\n",
                "tasks = ['대화 요약']\n",
                "task_data_dir = preprocessed_dir/'preprocessed_task'\n",
                "task_data_dir.mkdir(exist_ok=True)\n",
                "for task in tasks:\n",
                "    task_path = task_data_dir/task\n",
                "    task_path.mkdir(exist_ok=True)\n",
                "    \n",
                "#### prepare for task preprocess\n",
                "\n",
                "\n",
                "#### prepare for task preprocess end\n",
                "\n",
                "#### task preprocess\n",
                "for split in splits:\n",
                "    source_data_dir_split = source_data_dir/split\n",
                "    task_files = [(task_data_dir/task/f'{split}.jsonl').open('w', encoding='utf-8') for task in tasks]\n",
                "    for source_data in tqdm(list(source_data_dir_split.iterdir()), desc=split):\n",
                "        source_data = source_data.open()\n",
                "        for line in source_data.readlines():\n",
                "            #### data preprocess\n",
                "            line_data = json.loads(line)\n",
                "            dialog_id = line_data['id']+'.1.'\n",
                "            line = line.replace(dialog_id, '')\n",
                "            line = json.loads(line)\n",
                "            title = line['metadata']['title']\n",
                "            date = line['metadata']['date']\n",
                "            topic = line['metadata']['topic']\n",
                "            speaker = line['metadata']['speaker']\n",
                "            utterances = line['sentence']\n",
                "            for utt in utterances:\n",
                "                utt.pop('word')\n",
                "                \n",
                "            main_summary = line['SC']['main_summary']\n",
                "            issue_summary = line['SC']['issue_summary']\n",
                "            for issue in issue_summary:\n",
                "                issue['issue'].pop('begin')\n",
                "                issue['issue'].pop('end')\n",
                "                \n",
                "            #### data preprocess end \n",
                "            \n",
                "            #### 대화 요약\n",
                "            data = {'input': {}, 'output': {}}\n",
                "            ## preprocess data from line\n",
                "            data['input']['title'] = title\n",
                "            data['input']['date'] = date\n",
                "            data['input']['topic'] = topic\n",
                "            data['input']['speaker'] = speaker\n",
                "            data['input']['utterance'] = utterances\n",
                "            data['output']['main_summary'] = main_summary\n",
                "            data['output']['issue_summaries'] = issue_summary\n",
                "            ## preprocess data from line end\n",
                "            task_files[0].write(json.dumps(data, ensure_ascii=False)+'\\n')\n",
                "            # print(json.dumps(data, indent=4, ensure_ascii=False))\n",
                "            #### 대화 요약 end\n",
                "            \n",
                "            \n",
                "            \n",
                "    #         break\n",
                "    #     break\n",
                "    # break\n",
                "\n",
                "    for path in task_files:\n",
                "        path.close()      \n",
                "        \n",
                "#### task preprocess end      "
            ]
        }
    ],
    "metadata": {
        "kernelspec": {
            "display_name": "llm",
            "language": "python",
            "name": "python3"
        },
        "language_info": {
            "codemirror_mode": {
                "name": "ipython",
                "version": 3
            },
            "file_extension": ".py",
            "mimetype": "text/x-python",
            "name": "python",
            "nbconvert_exporter": "python",
            "pygments_lexer": "ipython3",
            "version": "3.12.2"
        }
    },
    "nbformat": 4,
    "nbformat_minor": 2
}
