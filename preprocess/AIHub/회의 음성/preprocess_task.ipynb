{
    "cells": [
        {
            "cell_type": "code",
            "execution_count": 3,
            "metadata": {},
            "outputs": [
                {
                    "name": "stderr",
                    "output_type": "stream",
                    "text": [
                        "train:   0%|          | 0/15 [00:00<?, ?it/s]"
                    ]
                },
                {
                    "name": "stderr",
                    "output_type": "stream",
                    "text": [
                        "train: 100%|██████████| 15/15 [00:06<00:00,  2.38it/s]\n",
                        "valid: 100%|██████████| 8/8 [00:00<00:00, 125.78it/s]\n"
                    ]
                }
            ],
            "source": [
                "from pathlib import Path\n",
                "import json\n",
                "import re\n",
                "from tqdm import tqdm\n",
                "\n",
                "settings = json.loads(Path('../../../settings.json').read_text())",
                "preprocessed_data_path = Path(settings['preprocessed_data_path'])",
                "data_path = Path('.').resolve()",
                "data_name = data_path.name",
                "source_name = data_path.parent.name",
                "preprocessed_dir = preprocessed_data_path/source_name/data_name",

                "source_data_dir = preprocessed_dir/'preprocessed'\n",
                "splits = ['train', 'valid']\n",
                "tasks = ['LM(한국어)']\n",
                "task_data_dir = preprocessed_dir/'preprocessed_task'\n",
                "task_data_dir.mkdir(exist_ok=True)\n",
                "for task in tasks:\n",
                "    task_path = task_data_dir/task\n",
                "    task_path.mkdir(exist_ok=True)\n",
                "    \n",
                "#### prepare for task preprocess\n",
                "def replace_pattern_for_script(text):\n",
                "    pattern = r'\\([^)]+\\)/\\(([^)]+)\\)'\n",
                "    replaced_text = re.sub(pattern, r'\\1', text)\n",
                "    replaced_text = re.sub(r'[a-z]\\/', '', replaced_text)\n",
                "    replaced_text = replaced_text.replace('/', '')\n",
                "    replaced_text = replaced_text.replace('  ', ' ')\n",
                "    return replaced_text\n",
                "\n",
                "\n",
                "#### prepare for task preprocess end\n",
                "\n",
                "#### task preprocess\n",
                "for split in splits:\n",
                "    source_data_dir_split = source_data_dir/split\n",
                "    task_files = [(task_data_dir/task/f'{split}.jsonl').open('w', encoding='utf-8') for task in tasks]\n",
                "    for source_data in tqdm(list(source_data_dir_split.iterdir()), desc=split):\n",
                "        source_data = source_data.open()\n",
                "        for line in source_data.readlines():\n",
                "            line = json.loads(line)\n",
                "            \n",
                "            #### data preprocess\n",
                "            category = line['typeInfo']['category']\n",
                "            subcategory = line['typeInfo']['subcategory']\n",
                "            inputType = line['typeInfo']['inputType']\n",
                "            texts = line['texts']\n",
                "            new_texts = []\n",
                "            for text in texts:\n",
                "                new_text = replace_pattern_for_script(text)\n",
                "                new_texts.append(new_text)\n",
                "            #### data preprocess end \n",
                "            \n",
                "            \n",
                "            #### LM(한국어)\n",
                "            data = {'text': None}\n",
                "            ## preprocess data from line\n",
                "            text = f'### 회의 정보: \\n{category} {subcategory} {inputType} \\n\\n### 회의 내용: \\n' + '\\n'.join(new_texts)\n",
                "            data['text'] = text\n",
                "            ## preprocess data from line end\n",
                "            task_files[0].write(json.dumps(data, ensure_ascii=False)+'\\n')\n",
                "            # print(json.dumps(data, indent=4, ensure_ascii=False))\n",
                "            #### LM(한국어) end\n",
                "    #         break\n",
                "    #     break\n",
                "    # break\n",
                "\n",
                "    for path in task_files:\n",
                "        path.close()      \n",
                "        \n",
                "#### task preprocess end      "
            ]
        },
        {
            "cell_type": "code",
            "execution_count": null,
            "metadata": {},
            "outputs": [],
            "source": []
        }
    ],
    "metadata": {
        "kernelspec": {
            "display_name": "llm",
            "language": "python",
            "name": "python3"
        },
        "language_info": {
            "codemirror_mode": {
                "name": "ipython",
                "version": 3
            },
            "file_extension": ".py",
            "mimetype": "text/x-python",
            "name": "python",
            "nbconvert_exporter": "python",
            "pygments_lexer": "ipython3",
            "version": "3.12.2"
        }
    },
    "nbformat": 4,
    "nbformat_minor": 2
}
