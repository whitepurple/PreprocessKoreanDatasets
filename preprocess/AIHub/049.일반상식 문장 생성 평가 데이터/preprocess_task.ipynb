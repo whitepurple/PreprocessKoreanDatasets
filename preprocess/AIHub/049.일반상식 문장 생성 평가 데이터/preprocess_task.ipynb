{
    "cells": [
        {
            "cell_type": "code",
            "execution_count": 9,
            "metadata": {},
            "outputs": [
                {
                    "name": "stderr",
                    "output_type": "stream",
                    "text": [
                        "train: 100%|██████████| 1/1 [00:10<00:00, 10.53s/it]\n",
                        "train: 100%|██████████| 171632/171632 [00:02<00:00, 76419.08it/s]\n",
                        "valid: 100%|██████████| 1/1 [00:01<00:00,  1.09s/it]\n",
                        "valid: 100%|██████████| 21521/21521 [00:00<00:00, 43079.57it/s]\n"
                    ]
                }
            ],
            "source": [
                "from pathlib import Path\n",
                "import json\n",
                "import re\n",
                "from tqdm import tqdm\n",
                "\n",
                "settings = json.loads(Path('../../../settings.json').read_text())",
                "preprocessed_data_path = Path(settings['preprocessed_data_path'])",
                "data_path = Path('.').resolve()",
                "data_name = data_path.name",
                "source_name = data_path.parent.name",
                "preprocessed_dir = preprocessed_data_path/source_name/data_name",

                "source_data_dir = preprocessed_dir/'preprocessed'\n",
                "splits = ['train', 'valid']\n",
                "tasks = ['유사 문장 생성']\n",
                "task_data_dir = preprocessed_dir/'preprocessed_task'\n",
                "task_data_dir.mkdir(exist_ok=True)\n",
                "for task in tasks:\n",
                "    task_path = task_data_dir/task\n",
                "    task_path.mkdir(exist_ok=True)\n",
                "    \n",
                "#### prepare for task preprocess\n",
                "\n",
                "\n",
                "\n",
                "#### prepare for task preprocess end\n",
                "\n",
                "#### task preprocess\n",
                "for split in splits:\n",
                "    source_data_dir_split = source_data_dir/split\n",
                "    task_files = [(task_data_dir/task/f'{split}.jsonl').open('w', encoding='utf-8') for task in tasks]\n",
                "    sentence_dict = {}\n",
                "    \n",
                "    for source_data in tqdm(list(source_data_dir_split.iterdir()), desc=split):\n",
                "        source_data = source_data.open()\n",
                "        for line in source_data.readlines():\n",
                "            line = json.loads(line)\n",
                "            \n",
                "            #### data preprocess\n",
                "            new_sentence = {}\n",
                "            sentence = line['sentence']\n",
                "            sentence_gen = line['label-scenes']\n",
                "            score = sum([line['final.grammar'],line['final.reality'],line['final.fluency'],line['final.diversity']])\n",
                "            new_sentence['score'] = {\n",
                "                'grammar': line['final.grammar'],\n",
                "                'reality': line['final.reality'],\n",
                "                'fluency': line['final.fluency'],\n",
                "                'diversity': line['final.diversity'],\n",
                "                'total': score\n",
                "            }\n",
                "            new_sentence['text'] = sentence_gen\n",
                "            if sentence in sentence_dict:\n",
                "                sentence_dict[sentence].append((score, new_sentence))\n",
                "            else:\n",
                "                sentence_dict[sentence] = [(score, new_sentence)]\n",
                "            #### data preprocess end \n",
                "\n",
                "    for sentence, value in tqdm(sentence_dict.items(), desc=split):\n",
                "        value = sorted(value, reverse=True, key=lambda x: x[0])\n",
                "        value = [v[1] for v in value if v[1]['text'] != sentence]\n",
                "        #### 유사 문장 생성\n",
                "        data = {'input': None, 'output': {}}\n",
                "        ## preprocess data from line\n",
                "        data['input'] = sentence\n",
                "        data['output']['generated_sentences'] = value\n",
                "        ## preprocess data from line end\n",
                "        task_files[0].write(json.dumps(data, ensure_ascii=False)+'\\n')\n",
                "        # print(json.dumps(data, indent=4, ensure_ascii=False))\n",
                "        #### 유사 문장 생성 end\n",
                "\n",
                "\n",
                "            \n",
                "    #     break\n",
                "    # break\n",
                "\n",
                "    for path in task_files:\n",
                "        path.close()      \n",
                "        \n",
                "#### task preprocess end      "
            ]
        }
    ],
    "metadata": {
        "kernelspec": {
            "display_name": "llm",
            "language": "python",
            "name": "python3"
        },
        "language_info": {
            "codemirror_mode": {
                "name": "ipython",
                "version": 3
            },
            "file_extension": ".py",
            "mimetype": "text/x-python",
            "name": "python",
            "nbconvert_exporter": "python",
            "pygments_lexer": "ipython3",
            "version": "3.12.2"
        }
    },
    "nbformat": 4,
    "nbformat_minor": 2
}
