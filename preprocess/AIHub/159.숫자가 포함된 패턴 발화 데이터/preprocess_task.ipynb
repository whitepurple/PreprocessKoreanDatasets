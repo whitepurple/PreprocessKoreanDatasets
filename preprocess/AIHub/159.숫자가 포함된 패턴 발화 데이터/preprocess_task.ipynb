{
    "cells": [
        {
            "cell_type": "code",
            "execution_count": 1,
            "metadata": {},
            "outputs": [
                {
                    "name": "stderr",
                    "output_type": "stream",
                    "text": [
                        "train: 100%|██████████| 21/21 [00:33<00:00,  1.60s/it]\n",
                        "valid: 100%|██████████| 21/21 [00:03<00:00,  5.29it/s]\n"
                    ]
                }
            ],
            "source": [
                "from pathlib import Path\n",
                "import json\n",
                "import re\n",
                "from tqdm import tqdm\n",
                "\n",
                "settings = json.loads(Path('../../../settings.json').read_text())",
                "preprocessed_data_path = Path(settings['preprocessed_data_path'])",
                "data_path = Path('.').resolve()",
                "data_name = data_path.name",
                "source_name = data_path.parent.name",
                "preprocessed_dir = preprocessed_data_path/source_name/data_name",

                "source_data_dir = preprocessed_dir/'preprocessed'\n",
                "splits = ['train', 'valid']\n",
                "tasks = ['STT 교정', '한국어 전사']\n",
                "task_data_dir = preprocessed_dir/'preprocessed_task'\n",
                "task_data_dir.mkdir(exist_ok=True)\n",
                "for task in tasks:\n",
                "    task_path = task_data_dir/task\n",
                "    task_path.mkdir(exist_ok=True)\n",
                "    \n",
                "#### prepare for task preprocess\n",
                "script_set = set()\n",
                "\n",
                "\n",
                "#### prepare for task preprocess end\n",
                "\n",
                "#### task preprocess\n",
                "for split in splits:\n",
                "    source_data_dir_split = source_data_dir/split\n",
                "    task_files = [(task_data_dir/task/f'{split}.jsonl').open('w', encoding='utf-8') for task in tasks]\n",
                "    for source_data in tqdm(list(source_data_dir_split.iterdir()), desc=split):\n",
                "        source_data = source_data.open()\n",
                "        for line in source_data.readlines():\n",
                "            line = json.loads(line)\n",
                "            \n",
                "            #### data preprocess\n",
                "            script_id = line['script']['scriptId']\n",
                "            scriptITN = line['script']['scriptITN']\n",
                "            if scriptITN in script_set:\n",
                "                continue\n",
                "            script_set.add(scriptITN)\n",
                "            scriptTN = re.sub(r'[|]|[^가-힣 ]','',line['script']['scriptTN'])\n",
                "            #### data preprocess end \n",
                "            \n",
                "            \n",
                "            #### STT 교정\n",
                "            ### 'output' is list of output sorted by relevance (1st is most relevant)\n",
                "            data = {'input': None, 'output': None}\n",
                "            ## preprocess data from line\n",
                "            data['input'] = scriptTN\n",
                "            data['output'] = scriptITN\n",
                "            ## preprocess data from line end\n",
                "            task_files[0].write(json.dumps(data, ensure_ascii=False)+'\\n')\n",
                "            # print(json.dumps(data, indent=4, ensure_ascii=False))\n",
                "            #### STT 교정 end\n",
                "            \n",
                "            \n",
                "            #### 한국어 전사\n",
                "            data = {'input': None, 'output': None}\n",
                "            ## preprocess data from line\n",
                "            data['input'] = scriptITN\n",
                "            data['output'] = scriptTN\n",
                "            ## preprocess data from line end\n",
                "            task_files[1].write(json.dumps(data, ensure_ascii=False)+'\\n')\n",
                "            # print(json.dumps(data, indent=4, ensure_ascii=False))\n",
                "            #### 한국어 전사 end\n",
                "            \n",
                "            \n",
                "            \n",
                "            # break\n",
                "    #     break\n",
                "    # break\n",
                "\n",
                "    for path in task_files:\n",
                "        path.close()      \n",
                "        \n",
                "#### task preprocess end      "
            ]
        },
        {
            "cell_type": "code",
            "execution_count": null,
            "metadata": {},
            "outputs": [],
            "source": []
        }
    ],
    "metadata": {
        "kernelspec": {
            "display_name": "llm",
            "language": "python",
            "name": "python3"
        },
        "language_info": {
            "codemirror_mode": {
                "name": "ipython",
                "version": 3
            },
            "file_extension": ".py",
            "mimetype": "text/x-python",
            "name": "python",
            "nbconvert_exporter": "python",
            "pygments_lexer": "ipython3",
            "version": "3.12.2"
        }
    },
    "nbformat": 4,
    "nbformat_minor": 2
}
