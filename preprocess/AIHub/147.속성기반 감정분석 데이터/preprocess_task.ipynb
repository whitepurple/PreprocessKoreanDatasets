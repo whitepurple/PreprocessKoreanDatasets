{
    "cells": [
        {
            "cell_type": "code",
            "execution_count": 9,
            "metadata": {},
            "outputs": [
                {
                    "name": "stderr",
                    "output_type": "stream",
                    "text": [
                        "train: 100%|██████████| 25/25 [00:03<00:00,  6.84it/s]\n",
                        "valid: 100%|██████████| 25/25 [00:00<00:00, 49.98it/s]\n"
                    ]
                }
            ],
            "source": [
                "from pathlib import Path\n",
                "import json\n",
                "import re\n",
                "from tqdm import tqdm\n",
                "\n",
                "settings = json.loads(Path('../../../settings.json').read_text())",
                "preprocessed_data_path = Path(settings['preprocessed_data_path'])",
                "data_path = Path('.').resolve()",
                "data_name = data_path.name",
                "source_name = data_path.parent.name",
                "preprocessed_dir = preprocessed_data_path/source_name/data_name",

                "source_data_dir = preprocessed_dir/'preprocessed'\n",
                "splits = ['train', 'valid']\n",
                "tasks = ['속성 기반 분류', '도메인 식별']\n",
                "task_data_dir = preprocessed_dir/'preprocessed_task'\n",
                "task_data_dir.mkdir(exist_ok=True)\n",
                "for task in tasks:\n",
                "    task_path = task_data_dir/task\n",
                "    task_path.mkdir(exist_ok=True)\n",
                "    \n",
                "#### prepare for task preprocess\n",
                "\n",
                "\n",
                "\n",
                "#### prepare for task preprocess end\n",
                "\n",
                "#### task preprocess\n",
                "for split in splits:\n",
                "    source_data_dir_split = source_data_dir/split\n",
                "    task_files = [(task_data_dir/task/f'{split}.jsonl').open('w', encoding='utf-8') for task in tasks]\n",
                "    for source_data in tqdm(list(source_data_dir_split.iterdir()), desc=split):\n",
                "        source_data = source_data.open()\n",
                "        for line in source_data.readlines():\n",
                "            line = json.loads(line)\n",
                "            for raw_data in line:\n",
                "                #### data preprocess\n",
                "                text = raw_data['RawText']\n",
                "                domain = raw_data['Source']+'/'+raw_data['Domain']+'/'+raw_data['MainCategory']\n",
                "                if 'GeneralPolarity' in raw_data:\n",
                "                    generl_polarity = raw_data['GeneralPolarity']\n",
                "                else:\n",
                "                    generl_polarity = [aspect['SentimentPolarity'] for aspect in raw_data['Aspects']]\n",
                "                    generl_polarity = [float(polarity) for polarity in generl_polarity]\n",
                "                    generl_polarity = sum(generl_polarity) / len(generl_polarity)\n",
                "                    generl_polarity = str(int(generl_polarity))\n",
                "                aspects = raw_data['Aspects']\n",
                "                #### data preprocess end \n",
                "\n",
                "                #### 속성 기반 분류\n",
                "                data = {'input': {}, 'output': {}}\n",
                "                ## preprocess data from line\n",
                "                data['input']['text'] = text\n",
                "                data['input']['domain'] = domain\n",
                "                data['output']['general_polarity'] = generl_polarity\n",
                "                data['output']['aspects'] = aspects\n",
                "                ## preprocess data from line end\n",
                "                task_files[0].write(json.dumps(data, ensure_ascii=False)+'\\n')\n",
                "                # print(json.dumps(data, indent=4, ensure_ascii=False))\n",
                "                #### 속성 기반 분류 end\n",
                "\n",
                "\n",
                "                #### 도메인 식별\n",
                "                data = {'input': None, 'output': None}\n",
                "                ## preprocess data from line\n",
                "                data['input'] = text\n",
                "                data['output'] = domain\n",
                "                ## preprocess data from line end\n",
                "                task_files[1].write(json.dumps(data, ensure_ascii=False)+'\\n')\n",
                "                # print(json.dumps(data, indent=4, ensure_ascii=False))\n",
                "                #### 도메인 식별 end\n",
                "\n",
                "\n",
                "            \n",
                "    #         break\n",
                "    #     break\n",
                "    # break\n",
                "\n",
                "    for path in task_files:\n",
                "        path.close()      \n",
                "        \n",
                "#### task preprocess end      "
            ]
        },
        {
            "cell_type": "code",
            "execution_count": null,
            "metadata": {},
            "outputs": [],
            "source": []
        }
    ],
    "metadata": {
        "kernelspec": {
            "display_name": "llm",
            "language": "python",
            "name": "python3"
        },
        "language_info": {
            "codemirror_mode": {
                "name": "ipython",
                "version": 3
            },
            "file_extension": ".py",
            "mimetype": "text/x-python",
            "name": "python",
            "nbconvert_exporter": "python",
            "pygments_lexer": "ipython3",
            "version": "3.12.2"
        }
    },
    "nbformat": 4,
    "nbformat_minor": 2
}
