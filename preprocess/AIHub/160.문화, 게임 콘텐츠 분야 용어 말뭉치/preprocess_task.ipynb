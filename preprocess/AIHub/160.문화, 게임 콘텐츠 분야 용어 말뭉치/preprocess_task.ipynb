{
    "cells": [
        {
            "cell_type": "code",
            "execution_count": 2,
            "metadata": {},
            "outputs": [
                {
                    "name": "stderr",
                    "output_type": "stream",
                    "text": [
                        "train: 100%|██████████| 1/1 [00:14<00:00, 14.12s/it]\n",
                        "valid: 100%|██████████| 1/1 [00:02<00:00,  2.82s/it]\n"
                    ]
                }
            ],
            "source": [
                "from pathlib import Path\n",
                "import json\n",
                "import re\n",
                "from tqdm import tqdm\n",
                "\n",
                "settings = json.loads(Path('../../../settings.json').read_text())",
                "preprocessed_data_path = Path(settings['preprocessed_data_path'])",
                "data_path = Path('.').resolve()",
                "data_name = data_path.name",
                "source_name = data_path.parent.name",
                "preprocessed_dir = preprocessed_data_path/source_name/data_name",

                "source_data_dir = preprocessed_dir/'preprocessed'\n",
                "splits = ['train', 'valid']\n",
                "tasks = ['용어 설명']\n",
                "task_data_dir = preprocessed_dir/'preprocessed_task'\n",
                "task_data_dir.mkdir(exist_ok=True)\n",
                "for task in tasks:\n",
                "    task_path = task_data_dir/task\n",
                "    task_path.mkdir(exist_ok=True)\n",
                "    \n",
                "#### prepare for task preprocess\n",
                "\n",
                "\n",
                "\n",
                "#### prepare for task preprocess end\n",
                "\n",
                "#### task preprocess\n",
                "for split in splits:\n",
                "    term_set = dict()\n",
                "    source_data_dir_split = source_data_dir/split\n",
                "    task_files = [(task_data_dir/task/f'{split}.jsonl').open('w', encoding='utf-8') for task in tasks]\n",
                "    for source_data in tqdm(list(source_data_dir_split.iterdir()), desc=split):\n",
                "        source_data_lines = source_data.open()\n",
                "        for line in source_data_lines.readlines():\n",
                "            line = json.loads(line)\n",
                "            if 'term' in line:\n",
                "                term = line['term']\n",
                "                term_dict = dict()\n",
                "                term_dict['id'] = line['id']\n",
                "                sense_no = line['sense_no']\n",
                "                term_dict['facet'] = line['facet']\n",
                "                term_dict['domain'] = [line['top_level_domain'],line['level2'],line['level3']]\n",
                "                term_dict['definition'] = line['definition']\n",
                "                if term in term_set:\n",
                "                    term_set[term][sense_no] = term_dict\n",
                "                else:\n",
                "                    term_set[term] = {sense_no: term_dict}\n",
                "                    \n",
                "        source_data_lines = source_data.open()\n",
                "        for line in source_data_lines.readlines():\n",
                "            line = json.loads(line)\n",
                "            sentence = line.get('sentence')\n",
                "            if sentence:\n",
                "                for term in line['tokens']:\n",
                "                    token = sentence[term['start']:term['start']+term['length']]\n",
                "                    if token in term_set:\n",
                "                        term_desc = term_set[token][term['sense_no']]\n",
                "                            \n",
                "                        #### 용어 설명\n",
                "                        data = {'input': {}, 'output': None}\n",
                "                        ## preprocess data from line\n",
                "                        data['input']['sentence'] = sentence\n",
                "                        data['input']['term'] = token\n",
                "                        data['output'] = term_desc\n",
                "                        ## preprocess data from line end\n",
                "                        task_files[0].write(json.dumps(data, ensure_ascii=False)+'\\n')\n",
                "                        # print(json.dumps(data, indent=4, ensure_ascii=False))\n",
                "                        #### 용어 설명 end\n",
                "                    else:\n",
                "                        print(line)\n",
                "            \n",
                "            \n",
                "            # break\n",
                "        # break\n",
                "    # break\n",
                "\n",
                "    for path in task_files:\n",
                "        path.close()      \n",
                "        \n",
                "#### task preprocess end      "
            ]
        }
    ],
    "metadata": {
        "kernelspec": {
            "display_name": "llm",
            "language": "python",
            "name": "python3"
        },
        "language_info": {
            "codemirror_mode": {
                "name": "ipython",
                "version": 3
            },
            "file_extension": ".py",
            "mimetype": "text/x-python",
            "name": "python",
            "nbconvert_exporter": "python",
            "pygments_lexer": "ipython3",
            "version": "3.12.2"
        }
    },
    "nbformat": 4,
    "nbformat_minor": 2
}
