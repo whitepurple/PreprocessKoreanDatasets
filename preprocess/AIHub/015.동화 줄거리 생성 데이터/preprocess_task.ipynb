{
    "cells": [
        {
            "cell_type": "code",
            "execution_count": 3,
            "metadata": {},
            "outputs": [
                {
                    "name": "stderr",
                    "output_type": "stream",
                    "text": [
                        "train: 100%|██████████| 14/14 [00:00<00:00, 14.39it/s]\n",
                        "valid: 100%|██████████| 14/14 [00:00<00:00, 121.09it/s]\n"
                    ]
                }
            ],
            "source": [
                "from pathlib import Path\n",
                "import json\n",
                "import re\n",
                "from tqdm import tqdm\n",
                "\n",
                "settings = json.loads(Path('../../../settings.json').read_text())",
                "preprocessed_data_path = Path(settings['preprocessed_data_path'])",
                "data_path = Path('.').resolve()",
                "data_name = data_path.name",
                "source_name = data_path.parent.name",
                "preprocessed_dir = preprocessed_data_path/source_name/data_name",

                "source_data_dir = preprocessed_dir/'preprocessed'\n",
                "splits = ['train', 'valid']\n",
                "tasks = ['LM(한국어)', '동화 생성', '스토리 요약']\n",
                "task_data_dir = preprocessed_dir/'preprocessed_task'\n",
                "task_data_dir.mkdir(exist_ok=True)\n",
                "for task in tasks:\n",
                "    task_path = task_data_dir/task\n",
                "    task_path.mkdir(exist_ok=True)\n",
                "    \n",
                "#### prepare for task preprocess\n",
                "\n",
                "\n",
                "\n",
                "#### prepare for task preprocess end\n",
                "#### task preprocess\n",
                "for split in splits:\n",
                "    source_data_dir_split = source_data_dir/split\n",
                "    task_files = [(task_data_dir/task/f'{split}.jsonl').open('w', encoding='utf-8') for task in tasks]\n",
                "    for source_data in tqdm(list(source_data_dir_split.iterdir()), desc=split):\n",
                "        source_data = source_data.open()\n",
                "        batch_data = []\n",
                "        for line in source_data.readlines():\n",
                "            line = json.loads(line)\n",
                "            \n",
                "            #### data preprocess\n",
                "            \n",
                "            \n",
                "            #### data preprocess end \n",
                "            \n",
                "            #### LM(한국어)\n",
                "            data = {'text': None}\n",
                "            ## preprocess data from line\n",
                "            data['text'] = '\\n'.join([p['srcText'] for p in line['paragraphInfo']])\n",
                "            ## preprocess data from line end\n",
                "            task_files[0].write(json.dumps(data, ensure_ascii=False)+'\\n')\n",
                "            # print(json.dumps(data, indent=4, ensure_ascii=False))\n",
                "            #### LM(한국어) end\n",
                "            \n",
                "            \n",
                "            #### 동화 생성\n",
                "            data = {'input': {}, 'output': None}\n",
                "            ## preprocess data from line\n",
                "            data['input']['title'] = line['title']\n",
                "            data['input']['readAge'] = line['paragraphInfo'][0]['plotSummaryInfo']['readAge']\n",
                "            data['input']['paragraphs'] = [p['plotSummaryInfo']['plotSummaryText'] for p in line['paragraphInfo']]\n",
                "            data['output'] = [p['srcText'] for p in line['paragraphInfo']]\n",
                "            ## preprocess data from line end\n",
                "            task_files[1].write(json.dumps(data, ensure_ascii=False)+'\\n')\n",
                "            # print(json.dumps(data, indent=4, ensure_ascii=False))\n",
                "            #### 동화 생성 end\n",
                "            \n",
                "            #### 스토리 요약\n",
                "            data = {'input': {}, 'output': {}}\n",
                "            ## preprocess data from line\n",
                "            data['input']['title'] = line['title']\n",
                "            data['input']['readAge'] = line['paragraphInfo'][0]['plotSummaryInfo']['readAge']\n",
                "            data['input']['paragraphs'] = '\\n'.join([p['srcText'] for p in line['paragraphInfo']])\n",
                "            data['output']['summary_line'] = '\\n'.join([p['plotSummaryInfo']['plotSummaryText'] for p in line['paragraphInfo']])\n",
                "            task_files[2].write(json.dumps(data, ensure_ascii=False)+'\\n')\n",
                "            # print(json.dumps(data, indent=4, ensure_ascii=False))\n",
                "            #### 스토리 요약 end\n",
                "            \n",
                "    #         break\n",
                "    #     break\n",
                "    # break\n",
                "\n",
                "    for path in task_files:\n",
                "        path.close()      \n",
                "    \n",
                "#### task preprocess end      "
            ]
        }
    ],
    "metadata": {
        "kernelspec": {
            "display_name": "llm",
            "language": "python",
            "name": "python3"
        },
        "language_info": {
            "codemirror_mode": {
                "name": "ipython",
                "version": 3
            },
            "file_extension": ".py",
            "mimetype": "text/x-python",
            "name": "python",
            "nbconvert_exporter": "python",
            "pygments_lexer": "ipython3",
            "version": "3.11.7"
        }
    },
    "nbformat": 4,
    "nbformat_minor": 2
}
