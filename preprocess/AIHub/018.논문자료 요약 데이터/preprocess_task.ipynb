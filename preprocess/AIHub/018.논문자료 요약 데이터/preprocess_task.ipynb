{
    "cells": [
        {
            "cell_type": "code",
            "execution_count": 10,
            "metadata": {},
            "outputs": [
                {
                    "name": "stderr",
                    "output_type": "stream",
                    "text": [
                        "train: 100%|██████████| 3/3 [02:25<00:00, 48.66s/it]\n",
                        "valid: 100%|██████████| 3/3 [00:47<00:00, 15.84s/it]\n"
                    ]
                }
            ],
            "source": [
                "from pathlib import Path\n",
                "import json\n",
                "import re\n",
                "from tqdm import tqdm\n",
                "\n",
                "settings = json.loads(Path('../../../settings.json').read_text())",
                "preprocessed_data_path = Path(settings['preprocessed_data_path'])",
                "data_path = Path('.').resolve()",
                "data_name = data_path.name",
                "source_name = data_path.parent.name",
                "preprocessed_dir = preprocessed_data_path/source_name/data_name",

                "source_data_dir = preprocessed_dir/'preprocessed'\n",
                "splits = ['train', 'valid']\n",
                "tasks = ['LM(한국어)', '문서 요약']\n",
                "task_data_dir = preprocessed_dir/'preprocessed_task'\n",
                "task_data_dir.mkdir(exist_ok=True)\n",
                "for task in tasks:\n",
                "    task_path = task_data_dir/task\n",
                "    task_path.mkdir(exist_ok=True)\n",
                "    \n",
                "#### prepare for task preprocess\n",
                "\n",
                "\n",
                "\n",
                "#### prepare for task preprocess end\n",
                "\n",
                "#### task preprocess\n",
                "for split in splits:\n",
                "    source_data_dir_split = source_data_dir/split\n",
                "    task_files = [(task_data_dir/task/f'{split}.jsonl').open('w', encoding='utf-8') for task in tasks]\n",
                "    for source_data in tqdm(list(source_data_dir_split.iterdir()), desc=split):\n",
                "        source_data = source_data.open()\n",
                "        for line in source_data.readlines():\n",
                "            line = json.loads(line)\n",
                "            \n",
                "            #### data preprocess\n",
                "            doc_id = line['doc_id']\n",
                "            doc_type = line['doc_type']\n",
                "            title = line['title']\n",
                "            ipc = line['ipc']\n",
                "            summary_entire = line.get('summary_entire', [])\n",
                "            summary_section = line.get('summary_section', [])\n",
                "            #### data preprocess end \n",
                "            for summary in summary_entire + summary_section:\n",
                "                #### LM(한국어)\n",
                "                data = {'text': None}\n",
                "                ## preprocess data from line\n",
                "                text = '##doc_type : ' + doc_type + '\\n'\n",
                "                text += '##title : ' + title + '\\n'\n",
                "                text += '##text : ' + summary['orginal_text'] + '\\n'\n",
                "                data['text'] = text\n",
                "                ## preprocess data from line end\n",
                "                task_files[0].write(json.dumps(data, ensure_ascii=False)+'\\n')\n",
                "                # print(json.dumps(data, indent=4, ensure_ascii=False))\n",
                "                #### LM(한국어) end\n",
                "\n",
                "\n",
                "                #### 문서 요약\n",
                "                data = {'input': {}, 'output': None}\n",
                "                ## preprocess data from line\n",
                "                data['input']['doc_id'] = doc_id\n",
                "                data['input']['doc_type'] = doc_type\n",
                "                data['input']['ipc'] = ipc\n",
                "                data['input']['title'] = title\n",
                "                data['input']['text'] = summary['orginal_text']\n",
                "                data['output'] = summary['summary_text']\n",
                "                ## preprocess data from line end\n",
                "                task_files[1].write(json.dumps(data, ensure_ascii=False)+'\\n')\n",
                "                # print(json.dumps(data, indent=4, ensure_ascii=False))\n",
                "                #### 문서 요약 end\n",
                "\n",
                "    #         break\n",
                "    #     break\n",
                "    # break\n",
                "\n",
                "    for path in task_files:\n",
                "        path.close()      \n",
                "        \n",
                "#### task preprocess end      "
            ]
        },
        {
            "cell_type": "code",
            "execution_count": null,
            "metadata": {},
            "outputs": [],
            "source": []
        }
    ],
    "metadata": {
        "kernelspec": {
            "display_name": "llm",
            "language": "python",
            "name": "python3"
        },
        "language_info": {
            "codemirror_mode": {
                "name": "ipython",
                "version": 3
            },
            "file_extension": ".py",
            "mimetype": "text/x-python",
            "name": "python",
            "nbconvert_exporter": "python",
            "pygments_lexer": "ipython3",
            "version": "3.12.2"
        }
    },
    "nbformat": 4,
    "nbformat_minor": 2
}
