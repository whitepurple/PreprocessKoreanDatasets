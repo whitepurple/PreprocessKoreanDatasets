{
    "cells": [
        {
            "cell_type": "code",
            "execution_count": 1,
            "metadata": {},
            "outputs": [
                {
                    "name": "stderr",
                    "output_type": "stream",
                    "text": [
                        "train:   0%|          | 0/27 [00:00<?, ?it/s]"
                    ]
                },
                {
                    "name": "stdout",
                    "output_type": "stream",
                    "text": [
                        "preprocessed/train/TS_01.한국어말뭉치데이터_구어체_SL10.jsonl\n"
                    ]
                },
                {
                    "name": "stderr",
                    "output_type": "stream",
                    "text": [
                        "train:   4%|▎         | 1/27 [00:01<00:36,  1.42s/it]"
                    ]
                },
                {
                    "name": "stdout",
                    "output_type": "stream",
                    "text": [
                        "preprocessed/train/TS_01.한국어말뭉치데이터_문어체_WL09.jsonl\n"
                    ]
                },
                {
                    "name": "stderr",
                    "output_type": "stream",
                    "text": [
                        "train:   7%|▋         | 2/27 [00:40<09:56, 23.86s/it]"
                    ]
                },
                {
                    "name": "stdout",
                    "output_type": "stream",
                    "text": [
                        "preprocessed/train/TS_01.한국어말뭉치데이터_문어체_WL02.jsonl\n"
                    ]
                },
                {
                    "name": "stderr",
                    "output_type": "stream",
                    "text": [
                        "train:  11%|█         | 3/27 [01:13<11:08, 27.84s/it]"
                    ]
                },
                {
                    "name": "stdout",
                    "output_type": "stream",
                    "text": [
                        "preprocessed/train/TS_01.한국어말뭉치데이터_구어체_SL04.jsonl\n"
                    ]
                },
                {
                    "name": "stderr",
                    "output_type": "stream",
                    "text": [
                        "train:  15%|█▍        | 4/27 [01:13<06:30, 16.97s/it]"
                    ]
                },
                {
                    "name": "stdout",
                    "output_type": "stream",
                    "text": [
                        "preprocessed/train/TS_01.한국어말뭉치데이터_구어체_SL12.jsonl\n"
                    ]
                },
                {
                    "name": "stderr",
                    "output_type": "stream",
                    "text": [
                        "train:  19%|█▊        | 5/27 [01:32<06:23, 17.45s/it]"
                    ]
                },
                {
                    "name": "stdout",
                    "output_type": "stream",
                    "text": [
                        "preprocessed/train/TS_01.한국어말뭉치데이터_구어체_SL11.jsonl\n"
                    ]
                },
                {
                    "name": "stderr",
                    "output_type": "stream",
                    "text": [
                        "train:  22%|██▏       | 6/27 [01:34<04:21, 12.47s/it]"
                    ]
                },
                {
                    "name": "stdout",
                    "output_type": "stream",
                    "text": [
                        "preprocessed/train/TS_01.한국어말뭉치데이터_구어체_SL01.jsonl\n"
                    ]
                },
                {
                    "name": "stderr",
                    "output_type": "stream",
                    "text": [
                        "train:  26%|██▌       | 7/27 [01:41<03:28, 10.44s/it]"
                    ]
                },
                {
                    "name": "stdout",
                    "output_type": "stream",
                    "text": [
                        "preprocessed/train/Other.jsonl\n"
                    ]
                },
                {
                    "name": "stderr",
                    "output_type": "stream",
                    "text": [
                        "train:  30%|██▉       | 8/27 [06:54<33:47, 106.72s/it]"
                    ]
                },
                {
                    "name": "stdout",
                    "output_type": "stream",
                    "text": [
                        "preprocessed/train/TS_01.한국어말뭉치데이터_문어체_WL05.jsonl\n"
                    ]
                },
                {
                    "name": "stderr",
                    "output_type": "stream",
                    "text": [
                        "train:  33%|███▎      | 9/27 [07:01<22:41, 75.63s/it] "
                    ]
                },
                {
                    "name": "stdout",
                    "output_type": "stream",
                    "text": [
                        "preprocessed/train/TS_01.한국어말뭉치데이터_구어체_SL02.jsonl\n"
                    ]
                },
                {
                    "name": "stderr",
                    "output_type": "stream",
                    "text": [
                        "train:  37%|███▋      | 10/27 [07:11<15:41, 55.37s/it]"
                    ]
                },
                {
                    "name": "stdout",
                    "output_type": "stream",
                    "text": [
                        "preprocessed/train/TS_01.한국어말뭉치데이터_구어체_SL09.jsonl\n"
                    ]
                },
                {
                    "name": "stderr",
                    "output_type": "stream",
                    "text": [
                        "train:  41%|████      | 11/27 [07:24<11:20, 42.56s/it]"
                    ]
                },
                {
                    "name": "stdout",
                    "output_type": "stream",
                    "text": [
                        "preprocessed/train/TS_01.한국어말뭉치데이터_구어체_SL14.jsonl\n"
                    ]
                },
                {
                    "name": "stderr",
                    "output_type": "stream",
                    "text": [
                        "train:  44%|████▍     | 12/27 [07:27<07:35, 30.34s/it]"
                    ]
                },
                {
                    "name": "stdout",
                    "output_type": "stream",
                    "text": [
                        "preprocessed/train/TS_01.한국어말뭉치데이터_문어체_WL11.jsonl\n"
                    ]
                },
                {
                    "name": "stderr",
                    "output_type": "stream",
                    "text": [
                        "train:  48%|████▊     | 13/27 [07:29<05:03, 21.67s/it]"
                    ]
                },
                {
                    "name": "stdout",
                    "output_type": "stream",
                    "text": [
                        "preprocessed/train/TS_01.한국어말뭉치데이터_구어체_SL13.jsonl\n"
                    ]
                },
                {
                    "name": "stderr",
                    "output_type": "stream",
                    "text": [
                        "train:  52%|█████▏    | 14/27 [07:30<03:21, 15.53s/it]"
                    ]
                },
                {
                    "name": "stdout",
                    "output_type": "stream",
                    "text": [
                        "preprocessed/train/TS_01.한국어말뭉치데이터_구어체_SL06.jsonl\n"
                    ]
                },
                {
                    "name": "stderr",
                    "output_type": "stream",
                    "text": [
                        "train:  56%|█████▌    | 15/27 [07:50<03:22, 16.84s/it]"
                    ]
                },
                {
                    "name": "stdout",
                    "output_type": "stream",
                    "text": [
                        "preprocessed/train/TS_01.한국어말뭉치데이터_구어체_SL03.jsonl\n"
                    ]
                },
                {
                    "name": "stderr",
                    "output_type": "stream",
                    "text": [
                        "train:  59%|█████▉    | 16/27 [07:50<02:10, 11.90s/it]"
                    ]
                },
                {
                    "name": "stdout",
                    "output_type": "stream",
                    "text": [
                        "preprocessed/train/TS_01.한국어말뭉치데이터_구어체_SL05.jsonl\n",
                        "preprocessed/train/TS_01.한국어말뭉치데이터_문어체_WL03.jsonl\n"
                    ]
                },
                {
                    "name": "stderr",
                    "output_type": "stream",
                    "text": [
                        "train:  67%|██████▋   | 18/27 [07:56<01:09,  7.75s/it]"
                    ]
                },
                {
                    "name": "stdout",
                    "output_type": "stream",
                    "text": [
                        "preprocessed/train/TS_01.한국어말뭉치데이터_문어체_WL07.jsonl\n"
                    ]
                },
                {
                    "name": "stderr",
                    "output_type": "stream",
                    "text": [
                        "train:  70%|███████   | 19/27 [07:59<00:52,  6.53s/it]"
                    ]
                },
                {
                    "name": "stdout",
                    "output_type": "stream",
                    "text": [
                        "preprocessed/train/TS_01.한국어말뭉치데이터_구어체_SL07.jsonl\n"
                    ]
                },
                {
                    "name": "stderr",
                    "output_type": "stream",
                    "text": [
                        "train:  74%|███████▍  | 20/27 [08:00<00:35,  5.12s/it]"
                    ]
                },
                {
                    "name": "stdout",
                    "output_type": "stream",
                    "text": [
                        "preprocessed/train/TS_01.한국어말뭉치데이터_문어체_WL04.jsonl\n"
                    ]
                },
                {
                    "name": "stderr",
                    "output_type": "stream",
                    "text": [
                        "train:  78%|███████▊  | 21/27 [08:03<00:26,  4.45s/it]"
                    ]
                },
                {
                    "name": "stdout",
                    "output_type": "stream",
                    "text": [
                        "preprocessed/train/TS_01.한국어말뭉치데이터_문어체_WL08.jsonl\n"
                    ]
                },
                {
                    "name": "stderr",
                    "output_type": "stream",
                    "text": [
                        "train:  81%|████████▏ | 22/27 [08:06<00:21,  4.21s/it]"
                    ]
                },
                {
                    "name": "stdout",
                    "output_type": "stream",
                    "text": [
                        "preprocessed/train/TL_02.RLHF데이터.jsonl\n"
                    ]
                },
                {
                    "name": "stderr",
                    "output_type": "stream",
                    "text": [
                        "train:  85%|████████▌ | 23/27 [08:08<00:14,  3.60s/it]"
                    ]
                },
                {
                    "name": "stdout",
                    "output_type": "stream",
                    "text": [
                        "preprocessed/train/TS_01.한국어말뭉치데이터_문어체_WL12.jsonl\n"
                    ]
                },
                {
                    "name": "stderr",
                    "output_type": "stream",
                    "text": [
                        "train:  89%|████████▉ | 24/27 [08:09<00:08,  2.74s/it]"
                    ]
                },
                {
                    "name": "stdout",
                    "output_type": "stream",
                    "text": [
                        "preprocessed/train/TS_01.한국어말뭉치데이터_문어체_WL06.jsonl\n"
                    ]
                },
                {
                    "name": "stderr",
                    "output_type": "stream",
                    "text": [
                        "train:  93%|█████████▎| 25/27 [08:10<00:04,  2.39s/it]"
                    ]
                },
                {
                    "name": "stdout",
                    "output_type": "stream",
                    "text": [
                        "preprocessed/train/TS_01.한국어말뭉치데이터_구어체_SL08.jsonl\n"
                    ]
                },
                {
                    "name": "stderr",
                    "output_type": "stream",
                    "text": [
                        "train:  96%|█████████▋| 26/27 [08:12<00:02,  2.12s/it]"
                    ]
                },
                {
                    "name": "stdout",
                    "output_type": "stream",
                    "text": [
                        "preprocessed/train/TS_01.한국어말뭉치데이터_문어체_WL01.jsonl\n"
                    ]
                },
                {
                    "name": "stderr",
                    "output_type": "stream",
                    "text": [
                        "train: 100%|██████████| 27/27 [08:26<00:00, 18.77s/it]\n",
                        "valid:   0%|          | 0/26 [00:00<?, ?it/s]"
                    ]
                },
                {
                    "name": "stdout",
                    "output_type": "stream",
                    "text": [
                        "preprocessed/valid/VS_01.한국어말뭉치데이터_구어체_SL14.jsonl\n"
                    ]
                },
                {
                    "name": "stderr",
                    "output_type": "stream",
                    "text": [
                        "valid:   4%|▍         | 1/26 [00:00<00:07,  3.39it/s]"
                    ]
                },
                {
                    "name": "stdout",
                    "output_type": "stream",
                    "text": [
                        "preprocessed/valid/VS_01.한국어말뭉치데이터_구어체_SL11.jsonl\n"
                    ]
                },
                {
                    "name": "stderr",
                    "output_type": "stream",
                    "text": [
                        "valid:   8%|▊         | 2/26 [00:00<00:07,  3.00it/s]"
                    ]
                },
                {
                    "name": "stdout",
                    "output_type": "stream",
                    "text": [
                        "preprocessed/valid/VS_01.한국어말뭉치데이터_구어체_SL01.jsonl\n"
                    ]
                },
                {
                    "name": "stderr",
                    "output_type": "stream",
                    "text": [
                        "valid:  12%|█▏        | 3/26 [00:01<00:15,  1.49it/s]"
                    ]
                },
                {
                    "name": "stdout",
                    "output_type": "stream",
                    "text": [
                        "preprocessed/valid/VS_01.한국어말뭉치데이터_문어체_WL04.jsonl\n"
                    ]
                },
                {
                    "name": "stderr",
                    "output_type": "stream",
                    "text": [
                        "valid:  23%|██▎       | 6/26 [00:02<00:05,  3.34it/s]"
                    ]
                },
                {
                    "name": "stdout",
                    "output_type": "stream",
                    "text": [
                        "preprocessed/valid/VS_01.한국어말뭉치데이터_구어체_SL04.jsonl\n",
                        "preprocessed/valid/VS_01.한국어말뭉치데이터_구어체_SL07.jsonl\n",
                        "preprocessed/valid/VL.jsonl\n"
                    ]
                },
                {
                    "name": "stderr",
                    "output_type": "stream",
                    "text": [
                        "valid:  27%|██▋       | 7/26 [00:02<00:05,  3.52it/s]"
                    ]
                },
                {
                    "name": "stdout",
                    "output_type": "stream",
                    "text": [
                        "preprocessed/valid/VS_01.한국어말뭉치데이터_문어체_WL02.jsonl\n"
                    ]
                },
                {
                    "name": "stderr",
                    "output_type": "stream",
                    "text": [
                        "valid:  31%|███       | 8/26 [00:06<00:24,  1.35s/it]"
                    ]
                },
                {
                    "name": "stdout",
                    "output_type": "stream",
                    "text": [
                        "preprocessed/valid/VS_01.한국어말뭉치데이터_문어체_WL05.jsonl\n"
                    ]
                },
                {
                    "name": "stderr",
                    "output_type": "stream",
                    "text": [
                        "valid:  35%|███▍      | 9/26 [00:07<00:21,  1.25s/it]"
                    ]
                },
                {
                    "name": "stdout",
                    "output_type": "stream",
                    "text": [
                        "preprocessed/valid/VS_01.한국어말뭉치데이터_문어체_WL03.jsonl\n"
                    ]
                },
                {
                    "name": "stderr",
                    "output_type": "stream",
                    "text": [
                        "valid:  38%|███▊      | 10/26 [00:08<00:17,  1.11s/it]"
                    ]
                },
                {
                    "name": "stdout",
                    "output_type": "stream",
                    "text": [
                        "preprocessed/valid/VS_01.한국어말뭉치데이터_문어체_WL12.jsonl\n",
                        "preprocessed/valid/VS_01.한국어말뭉치데이터_구어체_SL12.jsonl\n"
                    ]
                },
                {
                    "name": "stderr",
                    "output_type": "stream",
                    "text": [
                        "valid:  46%|████▌     | 12/26 [00:11<00:18,  1.29s/it]"
                    ]
                },
                {
                    "name": "stdout",
                    "output_type": "stream",
                    "text": [
                        "preprocessed/valid/VS_01.한국어말뭉치데이터_문어체_WL11.jsonl\n"
                    ]
                },
                {
                    "name": "stderr",
                    "output_type": "stream",
                    "text": [
                        "valid:  50%|█████     | 13/26 [00:11<00:13,  1.02s/it]"
                    ]
                },
                {
                    "name": "stdout",
                    "output_type": "stream",
                    "text": [
                        "preprocessed/valid/VS_01.한국어말뭉치데이터_문어체_WL01.jsonl\n"
                    ]
                },
                {
                    "name": "stderr",
                    "output_type": "stream",
                    "text": [
                        "valid:  54%|█████▍    | 14/26 [00:13<00:14,  1.18s/it]"
                    ]
                },
                {
                    "name": "stdout",
                    "output_type": "stream",
                    "text": [
                        "preprocessed/valid/VS_01.한국어말뭉치데이터_문어체_WL08.jsonl\n"
                    ]
                },
                {
                    "name": "stderr",
                    "output_type": "stream",
                    "text": [
                        "valid:  58%|█████▊    | 15/26 [00:13<00:10,  1.03it/s]"
                    ]
                },
                {
                    "name": "stdout",
                    "output_type": "stream",
                    "text": [
                        "preprocessed/valid/VS_01.한국어말뭉치데이터_구어체_SL03.jsonl\n",
                        "preprocessed/valid/VS_01.한국어말뭉치데이터_구어체_SL10.jsonl\n"
                    ]
                },
                {
                    "name": "stderr",
                    "output_type": "stream",
                    "text": [
                        "valid:  65%|██████▌   | 17/26 [00:13<00:05,  1.66it/s]"
                    ]
                },
                {
                    "name": "stdout",
                    "output_type": "stream",
                    "text": [
                        "preprocessed/valid/VS_01.한국어말뭉치데이터_구어체_SL09.jsonl\n"
                    ]
                },
                {
                    "name": "stderr",
                    "output_type": "stream",
                    "text": [
                        "valid:  69%|██████▉   | 18/26 [00:15<00:06,  1.19it/s]"
                    ]
                },
                {
                    "name": "stdout",
                    "output_type": "stream",
                    "text": [
                        "preprocessed/valid/VS_01.한국어말뭉치데이터_구어체_SL02.jsonl\n"
                    ]
                },
                {
                    "name": "stderr",
                    "output_type": "stream",
                    "text": [
                        "valid:  73%|███████▎  | 19/26 [00:16<00:06,  1.05it/s]"
                    ]
                },
                {
                    "name": "stdout",
                    "output_type": "stream",
                    "text": [
                        "preprocessed/valid/VS_01.한국어말뭉치데이터_구어체_SL08.jsonl\n"
                    ]
                },
                {
                    "name": "stderr",
                    "output_type": "stream",
                    "text": [
                        "valid:  77%|███████▋  | 20/26 [00:16<00:04,  1.30it/s]"
                    ]
                },
                {
                    "name": "stdout",
                    "output_type": "stream",
                    "text": [
                        "preprocessed/valid/VS_01.한국어말뭉치데이터_문어체_WL09.jsonl\n"
                    ]
                },
                {
                    "name": "stderr",
                    "output_type": "stream",
                    "text": [
                        "valid:  81%|████████  | 21/26 [00:22<00:11,  2.20s/it]"
                    ]
                },
                {
                    "name": "stdout",
                    "output_type": "stream",
                    "text": [
                        "preprocessed/valid/VS_01.한국어말뭉치데이터_구어체_SL06.jsonl\n"
                    ]
                },
                {
                    "name": "stderr",
                    "output_type": "stream",
                    "text": [
                        "valid:  88%|████████▊ | 23/26 [00:25<00:04,  1.64s/it]"
                    ]
                },
                {
                    "name": "stdout",
                    "output_type": "stream",
                    "text": [
                        "preprocessed/valid/VS_01.한국어말뭉치데이터_구어체_SL13.jsonl\n",
                        "preprocessed/valid/VS_01.한국어말뭉치데이터_문어체_WL06.jsonl\n"
                    ]
                },
                {
                    "name": "stderr",
                    "output_type": "stream",
                    "text": [
                        "valid:  92%|█████████▏| 24/26 [00:25<00:02,  1.22s/it]"
                    ]
                },
                {
                    "name": "stdout",
                    "output_type": "stream",
                    "text": [
                        "preprocessed/valid/VS_01.한국어말뭉치데이터_구어체_SL05.jsonl\n",
                        "preprocessed/valid/VS_01.한국어말뭉치데이터_문어체_WL07.jsonl\n"
                    ]
                },
                {
                    "name": "stderr",
                    "output_type": "stream",
                    "text": [
                        "valid: 100%|██████████| 26/26 [00:26<00:00,  1.00s/it]\n"
                    ]
                }
            ],
            "source": [
                "from pathlib import Path\n",
                "import json\n",
                "import re\n",
                "from tqdm import tqdm\n",
                "\n",
                "settings = json.loads(Path('../../../settings.json').read_text())",
                "preprocessed_data_path = Path(settings['preprocessed_data_path'])",
                "data_path = Path('.').resolve()",
                "data_name = data_path.name",
                "source_name = data_path.parent.name",
                "preprocessed_dir = preprocessed_data_path/source_name/data_name",

                "source_data_dir = preprocessed_dir/'preprocessed'\n",
                "splits = ['train', 'valid']\n",
                "tasks = ['LM(한국어)', 'QA', 'QA 답변 교정']\n",
                "task_data_dir = preprocessed_dir/'preprocessed_task'\n",
                "task_data_dir.mkdir(exist_ok=True)\n",
                "for task in tasks:\n",
                "    task_path = task_data_dir/task\n",
                "    task_path.mkdir(exist_ok=True)\n",
                "    \n",
                "#### prepare for task preprocess\n",
                "\n",
                "\n",
                "\n",
                "#### prepare for task preprocess end\n",
                "\n",
                "#### task preprocess\n",
                "for split in splits:\n",
                "    source_data_dir_split = source_data_dir/split\n",
                "    task_files = [(task_data_dir/task/f'{split}.jsonl').open('w', encoding='utf-8') for task in tasks]\n",
                "    for source_data in tqdm(list(source_data_dir_split.iterdir()), desc=split):\n",
                "        specific_task = None\n",
                "        if 'Other' in source_data.name:\n",
                "            specific_tasks = ['LM(한국어)', 'QA']\n",
                "        elif 'VL' in source_data.name:\n",
                "            specific_tasks = ['QA']\n",
                "        elif 'TL' in source_data.name:\n",
                "            specific_tasks = ['QA', 'QA 답변 교정']\n",
                "        elif 'S_01' in source_data.name:\n",
                "            specific_tasks = ['LM(한국어)']\n",
                "        \n",
                "        print(source_data)\n",
                "            \n",
                "        source_data = source_data.open()\n",
                "        while True:\n",
                "            line = source_data.readline()\n",
                "            if not line:\n",
                "                break\n",
                "            line = json.loads(line)\n",
                "            \n",
                "            \n",
                "            for s_task in specific_tasks:\n",
                "                if s_task == 'LM(한국어)':\n",
                "                    #### LM(한국어)\n",
                "                    data = {'text': None}\n",
                "                    ## preprocess data from line\n",
                "                    if 'text' in line:\n",
                "                        data['text'] = line['text']\n",
                "                        task_files[0].write(json.dumps(data, ensure_ascii=False)+'\\n')\n",
                "                    elif 'contents' in line:\n",
                "                        if type(line['contents']) == str:\n",
                "                            data['text'] = line['data_title'] + '\\n' + line['contents']\n",
                "                            task_files[0].write(json.dumps(data, ensure_ascii=False)+'\\n')\n",
                "                    \n",
                "                    ## preprocess data from line end\n",
                "                    # print(json.dumps(data, indent=4, ensure_ascii=False))\n",
                "                    #### LM(한국어) end\n",
                "            \n",
                "                if s_task == 'QA':\n",
                "            \n",
                "                    #### QA\n",
                "                    data = {'input': {}, 'output': {}}\n",
                "                    ## preprocess data from line\n",
                "                    if 'contents' in line:\n",
                "                        if type(line['contents']) == list:\n",
                "                            for content in line['contents']:\n",
                "                                text = content['text']\n",
                "                                data['input']['context'] = text\n",
                "                                data['input']['question'] = []\n",
                "                                data['output']['answer'] = []\n",
                "                                for qa in content['QA']:\n",
                "                                    data['input']['question'].append(qa['question'])\n",
                "                                    data['output']['answer'].append(qa['answer'])\n",
                "                        task_files[1].write(json.dumps(data, ensure_ascii=False)+'\\n')\n",
                "                        \n",
                "                    elif 'question' in line:\n",
                "                        if 'answer' in line:\n",
                "                            data['input'] = line['question']\n",
                "                            data['output'] = line['answer']['contents']\n",
                "                    ## preprocess data from line end\n",
                "                            task_files[1].write(json.dumps(data, ensure_ascii=False)+'\\n')\n",
                "                    # print(json.dumps(data, indent=4, ensure_ascii=False))\n",
                "                    #### QA end\n",
                "\n",
                "                if s_task == 'QA 답변 교정':\n",
                "                    if 'answer01' in line:\n",
                "                        #### QA 답변 교정\n",
                "                        data = {'input': {}, 'output': {}}\n",
                "                        ### 'output' is list of output sorted by relevance (1st is most relevant)\n",
                "                        ## preprocess data from line\n",
                "                        data['input']['question'] = line['question']\n",
                "                        data['output']['answer'] = [line['answer01'],\n",
                "                                                    line['answer02'],\n",
                "                                                    line['answer03'],\n",
                "                                                    line['answer04'],\n",
                "                                                    line['answer05']]\n",
                "                        ## preprocess data from line end\n",
                "                        task_files[2].write(json.dumps(data, ensure_ascii=False)+'\\n')\n",
                "                        # print(json.dumps(data, indent=4, ensure_ascii=False))\n",
                "                        #### QA 답변 교정 end\n",
                "            \n",
                "            \n",
                "            \n",
                "    #         break\n",
                "    #     break\n",
                "    # break\n",
                "\n",
                "    for path in task_files:\n",
                "        path.close()      \n",
                "        \n",
                "#### task preprocess end      "
            ]
        }
    ],
    "metadata": {
        "kernelspec": {
            "display_name": "llm",
            "language": "python",
            "name": "python3"
        },
        "language_info": {
            "codemirror_mode": {
                "name": "ipython",
                "version": 3
            },
            "file_extension": ".py",
            "mimetype": "text/x-python",
            "name": "python",
            "nbconvert_exporter": "python",
            "pygments_lexer": "ipython3",
            "version": "3.12.2"
        }
    },
    "nbformat": 4,
    "nbformat_minor": 2
}
