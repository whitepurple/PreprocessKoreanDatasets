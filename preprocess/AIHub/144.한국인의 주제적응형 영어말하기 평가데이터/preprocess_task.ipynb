{
    "cells": [
        {
            "cell_type": "code",
            "execution_count": 2,
            "metadata": {},
            "outputs": [
                {
                    "name": "stderr",
                    "output_type": "stream",
                    "text": [
                        "train:   0%|          | 0/1 [00:00<?, ?it/s]"
                    ]
                },
                {
                    "name": "stderr",
                    "output_type": "stream",
                    "text": [
                        "train: 100%|██████████| 1/1 [00:00<00:00,  2.03it/s]\n",
                        "valid: 100%|██████████| 1/1 [00:00<00:00, 23.65it/s]\n"
                    ]
                }
            ],
            "source": [
                "from pathlib import Path\n",
                "import json\n",
                "import re\n",
                "from tqdm import tqdm\n",
                "\n",
                "settings = json.loads(Path('../../../settings.json').read_text())",
                "preprocessed_data_path = Path(settings['preprocessed_data_path'])",
                "data_path = Path('.').resolve()",
                "data_name = data_path.name",
                "source_name = data_path.parent.name",
                "preprocessed_dir = preprocessed_data_path/source_name/data_name",

                "source_data_dir = preprocessed_dir/'preprocessed'\n",
                "splits = ['train', 'valid']\n",
                "tasks = ['페르소나 채팅']\n",
                "task_data_dir = preprocessed_dir/'preprocessed_task'\n",
                "task_data_dir.mkdir(exist_ok=True)\n",
                "for task in tasks:\n",
                "    task_path = task_data_dir/task\n",
                "    task_path.mkdir(exist_ok=True)\n",
                "    \n",
                "#### prepare for task preprocess\n",
                "\n",
                "\n",
                "\n",
                "#### prepare for task preprocess end\n",
                "\n",
                "#### task preprocess\n",
                "for split in splits:\n",
                "    dialogs = {}\n",
                "    source_data_dir_split = source_data_dir/split\n",
                "    task_files = [(task_data_dir/task/f'{split}.jsonl').open('w', encoding='utf-8') for task in tasks]\n",
                "    for source_data in tqdm(list(source_data_dir_split.iterdir()), desc=split):\n",
                "        source_data = source_data.open()\n",
                "        for line in source_data.readlines():\n",
                "            line = json.loads(line)\n",
                "            \n",
                "            #### data preprocess\n",
                "            level = line['speaker']['level']['final']\n",
                "            if level in ['IG']:\n",
                "                continue\n",
                "            interview = line['speaker']['interview']\n",
                "            persona = {\n",
                "                'age': line['speaker']['age'],\n",
                "                'gender': line['speaker']['gender'],\n",
                "                'level': level,\n",
                "                '종사_분야': interview['종사_분야'],\n",
                "                '현_거주_환경': interview['현_거주_환경'],\n",
                "                '여가_활동_취미': interview['여가_활동_취미'],\n",
                "                '영어권_거주_여부': interview['영어권_거주_여부'],\n",
                "                '영어권_거주_기간': interview['영어권_거주_기간']\n",
                "            }\n",
                "            speaker_id = line['speaker']['id']\n",
                "            question_id = line['prompt']['Question_number']\n",
                "            question = line['prompt']['prompt']\n",
                "            answer = line['utterance.transcription']\n",
                "            qa = {'question' : question, 'answer' : answer}\n",
                "            if speaker_id not in dialogs:\n",
                "                dialogs[speaker_id] = {'persona': persona, 'dialog': {}}\n",
                "            if question_id not in dialogs[speaker_id]['dialog']:\n",
                "                dialogs[speaker_id]['dialog'][question_id] = qa\n",
                "            \n",
                "            #### data preprocess end \n",
                "    for speaker_id in dialogs:\n",
                "        #### 페르소나 채팅\n",
                "        data = {'text': {}}\n",
                "        ## preprocess data from line\n",
                "        data['text']['persona'] = dialogs[speaker_id]['persona']\n",
                "        dialog = [v for k, v in sorted(dialogs[speaker_id]['dialog'].items())]\n",
                "        data['text']['dialog'] = dialog\n",
                "        ## preprocess data from line end\n",
                "        task_files[0].write(json.dumps(data, ensure_ascii=False)+'\\n')\n",
                "        # print(json.dumps(data, indent=4, ensure_ascii=False))\n",
                "        #### 페르소나 채팅 end\n",
                "\n",
                "\n",
                "            \n",
                "    #         break\n",
                "    #     break\n",
                "    # break\n",
                "\n",
                "    for path in task_files:\n",
                "        path.close()      \n",
                "        \n",
                "#### task preprocess end      "
            ]
        },
        {
            "cell_type": "code",
            "execution_count": null,
            "metadata": {},
            "outputs": [],
            "source": []
        }
    ],
    "metadata": {
        "kernelspec": {
            "display_name": "llm",
            "language": "python",
            "name": "python3"
        },
        "language_info": {
            "codemirror_mode": {
                "name": "ipython",
                "version": 3
            },
            "file_extension": ".py",
            "mimetype": "text/x-python",
            "name": "python",
            "nbconvert_exporter": "python",
            "pygments_lexer": "ipython3",
            "version": "3.12.2"
        }
    },
    "nbformat": 4,
    "nbformat_minor": 2
}
