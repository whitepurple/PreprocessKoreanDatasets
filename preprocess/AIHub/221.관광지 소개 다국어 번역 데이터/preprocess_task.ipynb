{
    "cells": [
        {
            "cell_type": "code",
            "execution_count": 16,
            "metadata": {},
            "outputs": [
                {
                    "name": "stderr",
                    "output_type": "stream",
                    "text": [
                        "train:  21%|██▏       | 6/28 [00:04<00:20,  1.06it/s]"
                    ]
                },
                {
                    "name": "stdout",
                    "output_type": "stream",
                    "text": [
                        "1\n"
                    ]
                },
                {
                    "name": "stderr",
                    "output_type": "stream",
                    "text": [
                        "train: 100%|██████████| 28/28 [00:33<00:00,  1.19s/it]\n",
                        "valid: 100%|██████████| 28/28 [00:04<00:00,  6.23it/s]\n"
                    ]
                }
            ],
            "source": [
                "from pathlib import Path\n",
                "import json\n",
                "import re\n",
                "from tqdm import tqdm\n",
                "import pandas as pd\n",
                "\n",
                "settings = json.loads(Path('../../../settings.json').read_text())",
                "preprocessed_data_path = Path(settings['preprocessed_data_path'])",
                "data_path = Path('.').resolve()",
                "data_name = data_path.name",
                "source_name = data_path.parent.name",
                "preprocessed_dir = preprocessed_data_path/source_name/data_name",

                "source_data_dir = preprocessed_dir/'preprocessed'\n",
                "splits = ['train', 'valid']\n",
                "tasks = ['번역(한-다국어)']\n",
                "task_data_dir = preprocessed_dir/'preprocessed_task'\n",
                "task_data_dir.mkdir(exist_ok=True)\n",
                "for task in tasks:\n",
                "    task_path = task_data_dir/task\n",
                "    task_path.mkdir(exist_ok=True)\n",
                "    \n",
                "#### prepare for task preprocess\n",
                "\n",
                "\n",
                "#### prepare for task preprocess end\n",
                "\n",
                "#### task preprocess\n",
                "for split in splits:\n",
                "    info_dict = {}\n",
                "    source_data_dir_split = source_data_dir/split\n",
                "    task_files = [(task_data_dir/task/f'{split}.jsonl').open('w', encoding='utf-8') for task in tasks]\n",
                "    for source_data in tqdm(list(source_data_dir_split.iterdir()), desc=split):\n",
                "        source_data = source_data.open()\n",
                "        new_info_k = {}\n",
                "        new_info_t = {}\n",
                "        for line in source_data.readlines():\n",
                "            line = json.loads(line)\n",
                "            #### data preprocess\n",
                "            try:\n",
                "                if line['k_column'] != '관광타입':\n",
                "                    new_info_k[line['k_column']] = line['k_context']\n",
                "                    new_info_t[line['t_column']] = line['t_context']\n",
                "                else:\n",
                "                    if new_info_k:\n",
                "                        name_key = '시설명' if '시설명' in new_info_k else '관광지명'\n",
                "                        if name_key in new_info_k:\n",
                "                            if new_info_k[name_key] not in info_dict:\n",
                "                                info_dict[new_info_k[name_key]] = {'kr':new_info_k, line['language']:new_info_t}\n",
                "                            else:\n",
                "                                info_dict[new_info_k[name_key]][line['language']] = new_info_t\n",
                "                        \n",
                "                    new_info_k = {line['k_column']:line['k_context']}\n",
                "                    new_info_t = {line['t_column']:line['t_context']}\n",
                "            except:\n",
                "                print(line)\n",
                "            #### data preprocess end \n",
                "                \n",
                "    for name, info in info_dict.items():\n",
                "        #### 번역(한-영)\n",
                "        data = {'input': None, 'output': {}}\n",
                "        ## preprocess data from line\n",
                "        for lang, lang_info in info.items():\n",
                "            df = pd.DataFrame([lang_info])\n",
                "            text = df.to_markdown(index=False)\n",
                "            if lang == 'kr':\n",
                "                data['input'] = text\n",
                "            else:\n",
                "                data['output'][lang] = text\n",
                "        \n",
                "        \n",
                "        ## preprocess data from line end\n",
                "        task_files[0].write(json.dumps(data, ensure_ascii=False)+'\\n')\n",
                "        # print(json.dumps(data, indent=4, ensure_ascii=False))\n",
                "        #### 번역(한-영) end\n",
                "\n",
                "\n",
                "            # break\n",
                "        # break\n",
                "    # break\n",
                "\n",
                "    for path in task_files:\n",
                "        path.close()      \n",
                "        \n",
                "#### task preprocess end      "
            ]
        }
    ],
    "metadata": {
        "kernelspec": {
            "display_name": "llm",
            "language": "python",
            "name": "python3"
        },
        "language_info": {
            "codemirror_mode": {
                "name": "ipython",
                "version": 3
            },
            "file_extension": ".py",
            "mimetype": "text/x-python",
            "name": "python",
            "nbconvert_exporter": "python",
            "pygments_lexer": "ipython3",
            "version": "3.12.2"
        }
    },
    "nbformat": 4,
    "nbformat_minor": 2
}
