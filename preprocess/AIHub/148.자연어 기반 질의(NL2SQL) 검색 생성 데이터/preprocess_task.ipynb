{
    "cells": [
        {
            "cell_type": "code",
            "execution_count": 3,
            "metadata": {},
            "outputs": [
                {
                    "name": "stderr",
                    "output_type": "stream",
                    "text": [
                        "train: 2it [00:00,  2.61it/s]\n",
                        "valid: 2it [00:00, 22.41it/s]\n"
                    ]
                }
            ],
            "source": [
                "from pathlib import Path\n",
                "import json\n",
                "import re\n",
                "from tqdm import tqdm\n",
                "\n",
                "settings = json.loads(Path('../../../settings.json').read_text())",
                "preprocessed_data_path = Path(settings['preprocessed_data_path'])",
                "data_path = Path('.').resolve()",
                "data_name = data_path.name",
                "source_name = data_path.parent.name",
                "preprocessed_dir = preprocessed_data_path/source_name/data_name",

                "source_data_dir = preprocessed_dir/'preprocessed'\n",
                "splits = ['train', 'valid']\n",
                "tasks = ['자연어 기반 SQL']\n",
                "task_data_dir = preprocessed_dir/'preprocessed_task'\n",
                "task_data_dir.mkdir(exist_ok=True)\n",
                "for task in tasks:\n",
                "    task_path = task_data_dir/task\n",
                "    task_path.mkdir(exist_ok=True)\n",
                "    \n",
                "#### prepare for task preprocess\n",
                "db_dict = dict()\n",
                "\n",
                "\n",
                "#### prepare for task preprocess end\n",
                "\n",
                "#### task preprocess\n",
                "for split in splits:\n",
                "    source_data_dir_split = source_data_dir/split\n",
                "    task_files = [(task_data_dir/task/f'{split}.jsonl').open('w', encoding='utf-8') for task in tasks]\n",
                "    for source_data in tqdm(reversed(sorted(source_data_dir_split.iterdir())), desc=split):\n",
                "        source_data = source_data.open()\n",
                "        prev_db_id = None\n",
                "        for line in source_data.readlines():\n",
                "            line = json.loads(line)\n",
                "            db_id = line.pop('db_id')\n",
                "            #### data preprocess\n",
                "            if 'source' in line:    ## _S\n",
                "                db_dict[db_id] = line\n",
                "                continue\n",
                "            #### data preprocess end \n",
                "            \n",
                "            if prev_db_id != db_id:\n",
                "                task_files[0].write(json.dumps(data, ensure_ascii=False)+'\\n')\n",
                "                prev_db_id = db_id\n",
                "                #### 자연어 기반 SQL\n",
                "                data = {'input': {}, 'output': None}\n",
                "                ## preprocess data from line\n",
                "                data['input']['db_info'] = db_dict[db_id]\n",
                "                data['input']['utterance'] = []\n",
                "                data['output'] = []\n",
                "            \n",
                "            \n",
                "            data['input']['utterance'].append(line['utterance'])\n",
                "            data['output'].append(line['query'])\n",
                "            \n",
                "            \n",
                "            ## preprocess data from line end\n",
                "            # task_files[0].write(json.dumps(data, ensure_ascii=False)+'\\n')\n",
                "            # print(json.dumps(data, indent=4, ensure_ascii=False))\n",
                "            #### 자연어 기반 SQL end\n",
                "            \n",
                "            \n",
                "            \n",
                "            # break\n",
                "        # break\n",
                "    # break\n",
                "\n",
                "    for path in task_files:\n",
                "        path.close()      \n",
                "        \n",
                "#### task preprocess end      "
            ]
        }
    ],
    "metadata": {
        "kernelspec": {
            "display_name": "llm",
            "language": "python",
            "name": "python3"
        },
        "language_info": {
            "codemirror_mode": {
                "name": "ipython",
                "version": 3
            },
            "file_extension": ".py",
            "mimetype": "text/x-python",
            "name": "python",
            "nbconvert_exporter": "python",
            "pygments_lexer": "ipython3",
            "version": "3.12.2"
        }
    },
    "nbformat": 4,
    "nbformat_minor": 2
}
