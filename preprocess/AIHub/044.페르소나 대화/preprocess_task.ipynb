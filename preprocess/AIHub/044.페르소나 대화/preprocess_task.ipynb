{
    "cells": [
        {
            "cell_type": "code",
            "execution_count": 1,
            "metadata": {},
            "outputs": [
                {
                    "name": "stderr",
                    "output_type": "stream",
                    "text": [
                        "train: 100%|██████████| 20/20 [00:02<00:00,  6.84it/s]\n",
                        "valid: 100%|██████████| 20/20 [00:00<00:00, 50.30it/s]\n"
                    ]
                }
            ],
            "source": [
                "from pathlib import Path\n",
                "import json\n",
                "import re\n",
                "from tqdm import tqdm\n",
                "\n",
                "settings = json.loads(Path('../../../settings.json').read_text())",
                "preprocessed_data_path = Path(settings['preprocessed_data_path'])",
                "data_path = Path('.').resolve()",
                "data_name = data_path.name",
                "source_name = data_path.parent.name",
                "preprocessed_dir = preprocessed_data_path/source_name/data_name",

                "source_data_dir = preprocessed_dir/'preprocessed'\n",
                "splits = ['train', 'valid']\n",
                "tasks = ['대화 기반 페르소나 예측', '페르소나 채팅']\n",
                "task_data_dir = preprocessed_dir/'preprocessed_task'\n",
                "task_data_dir.mkdir(exist_ok=True)\n",
                "for task in tasks:\n",
                "    task_path = task_data_dir/task\n",
                "    task_path.mkdir(exist_ok=True)\n",
                "    \n",
                "#### prepare for task preprocess\n",
                "\n",
                "\n",
                "\n",
                "#### prepare for task preprocess end\n",
                "\n",
                "#### task preprocess\n",
                "for split in splits:\n",
                "    source_data_dir_split = source_data_dir/split\n",
                "    task_files = [(task_data_dir/task/f'{split}.jsonl').open('w', encoding='utf-8') for task in tasks]\n",
                "    for source_data in tqdm(list(source_data_dir_split.iterdir()), desc=split):\n",
                "        source_data = source_data.open()\n",
                "        for line in source_data.readlines():\n",
                "            line = json.loads(line)\n",
                "            \n",
                "            #### data preprocess\n",
                "            personas = line['info']['personas']\n",
                "            personas = [{'persona_id':persona['persona_id'], \n",
                "                         'persona':[p for p in persona['persona'] if p.pop('profile_id')]} for persona in personas]\n",
                "            topic = line['info']['topic']\n",
                "            utterances = line['utterances']\n",
                "            utterances = [utterance for utterance in utterances if utterance.pop('terminate') == False]\n",
                "            #### data preprocess end \n",
                "            \n",
                "            \n",
                "            #### 대화 기반 페르소나 예측\n",
                "            data = {'input': {}, 'output': {}}\n",
                "            ## preprocess data from line\n",
                "            data['input']['topic'] = topic\n",
                "            data['input']['dialog'] = utterances\n",
                "            data['output']['personas'] = personas\n",
                "            ## preprocess data from line end\n",
                "            task_files[0].write(json.dumps(data, ensure_ascii=False)+'\\n')\n",
                "            # print(json.dumps(data, indent=4, ensure_ascii=False))\n",
                "            #### 대화 기반 페르소나 예측 end\n",
                "            \n",
                "            \n",
                "            #### 페르소나 채팅\n",
                "            data = {'input': {}, 'output': {}}\n",
                "            ## preprocess data from line\n",
                "            data['input']['topic'] = topic\n",
                "            data['input']['personas'] = personas\n",
                "            data['output']['dialog'] = utterances\n",
                "            \n",
                "            ## preprocess data from line end\n",
                "            task_files[1].write(json.dumps(data, ensure_ascii=False)+'\\n')\n",
                "            # print(json.dumps(data, indent=4, ensure_ascii=False))\n",
                "            #### 페르소나 채팅 end\n",
                "            \n",
                "            \n",
                "            \n",
                "    #         break\n",
                "    #     break\n",
                "    # break\n",
                "\n",
                "    for path in task_files:\n",
                "        path.close()      \n",
                "        \n",
                "#### task preprocess end      "
            ]
        }
    ],
    "metadata": {
        "kernelspec": {
            "display_name": "llm",
            "language": "python",
            "name": "python3"
        },
        "language_info": {
            "codemirror_mode": {
                "name": "ipython",
                "version": 3
            },
            "file_extension": ".py",
            "mimetype": "text/x-python",
            "name": "python",
            "nbconvert_exporter": "python",
            "pygments_lexer": "ipython3",
            "version": "3.12.2"
        }
    },
    "nbformat": 4,
    "nbformat_minor": 2
}
