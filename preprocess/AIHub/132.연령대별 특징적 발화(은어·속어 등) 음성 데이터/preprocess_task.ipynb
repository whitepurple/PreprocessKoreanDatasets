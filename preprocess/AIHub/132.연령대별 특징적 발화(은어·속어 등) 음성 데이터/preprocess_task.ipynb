{
    "cells": [
        {
            "cell_type": "code",
            "execution_count": 1,
            "metadata": {},
            "outputs": [
                {
                    "name": "stderr",
                    "output_type": "stream",
                    "text": [
                        "train: 100%|██████████| 63/63 [00:08<00:00,  7.01it/s]\n",
                        "valid: 100%|██████████| 63/63 [00:01<00:00, 55.95it/s] \n"
                    ]
                }
            ],
            "source": [
                "from pathlib import Path\n",
                "import json\n",
                "import re\n",
                "from tqdm import tqdm\n",
                "\n",
                "settings = json.loads(Path('../../../settings.json').read_text())",
                "preprocessed_data_path = Path(settings['preprocessed_data_path'])",
                "data_path = Path('.').resolve()",
                "data_name = data_path.name",
                "source_name = data_path.parent.name",
                "preprocessed_dir = preprocessed_data_path/source_name/data_name",

                "source_data_dir = preprocessed_dir/'preprocessed'\n",
                "splits = ['train', 'valid']\n",
                "tasks = ['용어 설명']\n",
                "task_data_dir = preprocessed_dir/'preprocessed_task'\n",
                "task_data_dir.mkdir(exist_ok=True)\n",
                "for task in tasks:\n",
                "    task_path = task_data_dir/task\n",
                "    task_path.mkdir(exist_ok=True)\n",
                "    \n",
                "#### prepare for task preprocess\n",
                "text_dict = dict()\n",
                "pattern = r'\\((.*?)\\)\\/\\(.*?\\)'\n",
                "#### prepare for task preprocess end\n",
                "\n",
                "#### task preprocess\n",
                "for split in splits:\n",
                "    source_data_dir_split = source_data_dir/split\n",
                "    task_files = [(task_data_dir/task/f'{split}.jsonl').open('w', encoding='utf-8') for task in tasks]\n",
                "    for source_data in tqdm(list(source_data_dir_split.iterdir()), desc=split):\n",
                "        source_data = source_data.open()\n",
                "        local_word_dict = set()\n",
                "        for line in source_data.readlines():\n",
                "            line = json.loads(line)\n",
                "            \n",
                "            #### data preprocess\n",
                "            dialogs = line['Dialogs']\n",
                "            word_info = [[{'Word': word['Word'], 'WordDefine': word['WordDefine']} for word in dialog['WordInfo']]\n",
                "                         for dialog in dialogs if dialog['WordInfo']]\n",
                "            word_info = sum(word_info, [])\n",
                "            word_info_dict = {}\n",
                "            for info in word_info:\n",
                "                word = info['Word']\n",
                "                if word not in word_info_dict:\n",
                "                    word_info_dict[word] = info['WordDefine'].strip().replace('\\\"', '')\n",
                "                    \n",
                "            text = '\\n'.join([utt['SpeakerText'] for utt in dialogs])\n",
                "            text = re.sub(pattern, r'\\1', text)\n",
                "            word_set = str(sorted(word_info_dict.keys()))\n",
                "            if (word_set_text:=word_set) in local_word_dict:\n",
                "                continue\n",
                "            local_word_dict.add(word_set_text)\n",
                "            if text[-20:] in text_dict and text_dict[text[-20:]] == word_set:\n",
                "                continue\n",
                "            text_dict[text[-20:]] = word_set\n",
                "            \n",
                "            #### data preprocess end \n",
                "\n",
                "\n",
                "            #### 용어 설명\n",
                "            data = {'input': None, 'output': None}\n",
                "            ## preprocess data from line\n",
                "            data['input'] = text\n",
                "            data['output'] = word_info_dict\n",
                "            ## preprocess data from line end\n",
                "            task_files[0].write(json.dumps(data, ensure_ascii=False)+'\\n')\n",
                "            # print(json.dumps(data, indent=4, ensure_ascii=False))\n",
                "            #### 용어 설명 end\n",
                "\n",
                "\n",
                "            \n",
                "    #         break\n",
                "    #     break\n",
                "    # break\n",
                "\n",
                "    for path in task_files:\n",
                "        path.close()      \n",
                "        \n",
                "#### task preprocess end      "
            ]
        }
    ],
    "metadata": {
        "kernelspec": {
            "display_name": "llm",
            "language": "python",
            "name": "python3"
        },
        "language_info": {
            "codemirror_mode": {
                "name": "ipython",
                "version": 3
            },
            "file_extension": ".py",
            "mimetype": "text/x-python",
            "name": "python",
            "nbconvert_exporter": "python",
            "pygments_lexer": "ipython3",
            "version": "3.12.2"
        }
    },
    "nbformat": 4,
    "nbformat_minor": 2
}
